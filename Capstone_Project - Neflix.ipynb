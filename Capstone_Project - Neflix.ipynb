{
 "cells": [
  {
   "cell_type": "markdown",
   "id": "cdd82a25",
   "metadata": {
    "id": "cdd82a25"
   },
   "source": [
    "# Objective\n",
    "1.Find out the list of most popular and liked genre\n",
    "\n",
    "2.Create Model that finds the best suited Movie for one\n",
    "user in every genre.\n",
    "\n",
    "3.Find what Genre Movies have received the best and worst ratings based on User Rating."
   ]
  },
  {
   "cell_type": "code",
   "execution_count": 32,
   "id": "bb102129",
   "metadata": {
    "id": "bb102129"
   },
   "outputs": [],
   "source": [
    "import pandas as pd\n",
    "import numpy as np\n",
    "import matplotlib.pyplot as plt\n",
    "import seaborn as sns"
   ]
  },
  {
   "cell_type": "code",
   "execution_count": 33,
   "id": "c4c7be46",
   "metadata": {
    "id": "c4c7be46"
   },
   "outputs": [],
   "source": [
    "data=pd.read_csv('CapstoneDataSet.csv')"
   ]
  },
  {
   "cell_type": "code",
   "execution_count": 34,
   "id": "357b7183",
   "metadata": {
    "colab": {
     "base_uri": "https://localhost:8080/",
     "height": 206
    },
    "id": "357b7183",
    "outputId": "501b95e8-28dc-480d-90a3-5024fc714051"
   },
   "outputs": [
    {
     "data": {
      "text/html": [
       "\n",
       "  <div id=\"df-326569e2-c59d-4c80-a820-5d48a2097397\">\n",
       "    <div class=\"colab-df-container\">\n",
       "      <div>\n",
       "<style scoped>\n",
       "    .dataframe tbody tr th:only-of-type {\n",
       "        vertical-align: middle;\n",
       "    }\n",
       "\n",
       "    .dataframe tbody tr th {\n",
       "        vertical-align: top;\n",
       "    }\n",
       "\n",
       "    .dataframe thead th {\n",
       "        text-align: right;\n",
       "    }\n",
       "</style>\n",
       "<table border=\"1\" class=\"dataframe\">\n",
       "  <thead>\n",
       "    <tr style=\"text-align: right;\">\n",
       "      <th></th>\n",
       "      <th>Cust_Id</th>\n",
       "      <th>Rating</th>\n",
       "      <th>Movie_Id</th>\n",
       "      <th>Genre</th>\n",
       "      <th>MovieName</th>\n",
       "    </tr>\n",
       "  </thead>\n",
       "  <tbody>\n",
       "    <tr>\n",
       "      <th>0</th>\n",
       "      <td>1488844</td>\n",
       "      <td>3</td>\n",
       "      <td>1</td>\n",
       "      <td>Action</td>\n",
       "      <td>Dinosaur Planet</td>\n",
       "    </tr>\n",
       "    <tr>\n",
       "      <th>1</th>\n",
       "      <td>822109</td>\n",
       "      <td>5</td>\n",
       "      <td>1</td>\n",
       "      <td>Action</td>\n",
       "      <td>Dinosaur Planet</td>\n",
       "    </tr>\n",
       "    <tr>\n",
       "      <th>2</th>\n",
       "      <td>885013</td>\n",
       "      <td>4</td>\n",
       "      <td>1</td>\n",
       "      <td>Action</td>\n",
       "      <td>Dinosaur Planet</td>\n",
       "    </tr>\n",
       "    <tr>\n",
       "      <th>3</th>\n",
       "      <td>30878</td>\n",
       "      <td>4</td>\n",
       "      <td>1</td>\n",
       "      <td>Action</td>\n",
       "      <td>Dinosaur Planet</td>\n",
       "    </tr>\n",
       "    <tr>\n",
       "      <th>4</th>\n",
       "      <td>823519</td>\n",
       "      <td>3</td>\n",
       "      <td>1</td>\n",
       "      <td>Action</td>\n",
       "      <td>Dinosaur Planet</td>\n",
       "    </tr>\n",
       "  </tbody>\n",
       "</table>\n",
       "</div>\n",
       "      <button class=\"colab-df-convert\" onclick=\"convertToInteractive('df-326569e2-c59d-4c80-a820-5d48a2097397')\"\n",
       "              title=\"Convert this dataframe to an interactive table.\"\n",
       "              style=\"display:none;\">\n",
       "        \n",
       "  <svg xmlns=\"http://www.w3.org/2000/svg\" height=\"24px\"viewBox=\"0 0 24 24\"\n",
       "       width=\"24px\">\n",
       "    <path d=\"M0 0h24v24H0V0z\" fill=\"none\"/>\n",
       "    <path d=\"M18.56 5.44l.94 2.06.94-2.06 2.06-.94-2.06-.94-.94-2.06-.94 2.06-2.06.94zm-11 1L8.5 8.5l.94-2.06 2.06-.94-2.06-.94L8.5 2.5l-.94 2.06-2.06.94zm10 10l.94 2.06.94-2.06 2.06-.94-2.06-.94-.94-2.06-.94 2.06-2.06.94z\"/><path d=\"M17.41 7.96l-1.37-1.37c-.4-.4-.92-.59-1.43-.59-.52 0-1.04.2-1.43.59L10.3 9.45l-7.72 7.72c-.78.78-.78 2.05 0 2.83L4 21.41c.39.39.9.59 1.41.59.51 0 1.02-.2 1.41-.59l7.78-7.78 2.81-2.81c.8-.78.8-2.07 0-2.86zM5.41 20L4 18.59l7.72-7.72 1.47 1.35L5.41 20z\"/>\n",
       "  </svg>\n",
       "      </button>\n",
       "      \n",
       "  <style>\n",
       "    .colab-df-container {\n",
       "      display:flex;\n",
       "      flex-wrap:wrap;\n",
       "      gap: 12px;\n",
       "    }\n",
       "\n",
       "    .colab-df-convert {\n",
       "      background-color: #E8F0FE;\n",
       "      border: none;\n",
       "      border-radius: 50%;\n",
       "      cursor: pointer;\n",
       "      display: none;\n",
       "      fill: #1967D2;\n",
       "      height: 32px;\n",
       "      padding: 0 0 0 0;\n",
       "      width: 32px;\n",
       "    }\n",
       "\n",
       "    .colab-df-convert:hover {\n",
       "      background-color: #E2EBFA;\n",
       "      box-shadow: 0px 1px 2px rgba(60, 64, 67, 0.3), 0px 1px 3px 1px rgba(60, 64, 67, 0.15);\n",
       "      fill: #174EA6;\n",
       "    }\n",
       "\n",
       "    [theme=dark] .colab-df-convert {\n",
       "      background-color: #3B4455;\n",
       "      fill: #D2E3FC;\n",
       "    }\n",
       "\n",
       "    [theme=dark] .colab-df-convert:hover {\n",
       "      background-color: #434B5C;\n",
       "      box-shadow: 0px 1px 3px 1px rgba(0, 0, 0, 0.15);\n",
       "      filter: drop-shadow(0px 1px 2px rgba(0, 0, 0, 0.3));\n",
       "      fill: #FFFFFF;\n",
       "    }\n",
       "  </style>\n",
       "\n",
       "      <script>\n",
       "        const buttonEl =\n",
       "          document.querySelector('#df-326569e2-c59d-4c80-a820-5d48a2097397 button.colab-df-convert');\n",
       "        buttonEl.style.display =\n",
       "          google.colab.kernel.accessAllowed ? 'block' : 'none';\n",
       "\n",
       "        async function convertToInteractive(key) {\n",
       "          const element = document.querySelector('#df-326569e2-c59d-4c80-a820-5d48a2097397');\n",
       "          const dataTable =\n",
       "            await google.colab.kernel.invokeFunction('convertToInteractive',\n",
       "                                                     [key], {});\n",
       "          if (!dataTable) return;\n",
       "\n",
       "          const docLinkHtml = 'Like what you see? Visit the ' +\n",
       "            '<a target=\"_blank\" href=https://colab.research.google.com/notebooks/data_table.ipynb>data table notebook</a>'\n",
       "            + ' to learn more about interactive tables.';\n",
       "          element.innerHTML = '';\n",
       "          dataTable['output_type'] = 'display_data';\n",
       "          await google.colab.output.renderOutput(dataTable, element);\n",
       "          const docLink = document.createElement('div');\n",
       "          docLink.innerHTML = docLinkHtml;\n",
       "          element.appendChild(docLink);\n",
       "        }\n",
       "      </script>\n",
       "    </div>\n",
       "  </div>\n",
       "  "
      ],
      "text/plain": [
       "   Cust_Id  Rating  Movie_Id   Genre        MovieName\n",
       "0  1488844       3         1  Action  Dinosaur Planet\n",
       "1   822109       5         1  Action  Dinosaur Planet\n",
       "2   885013       4         1  Action  Dinosaur Planet\n",
       "3    30878       4         1  Action  Dinosaur Planet\n",
       "4   823519       3         1  Action  Dinosaur Planet"
      ]
     },
     "execution_count": 34,
     "metadata": {},
     "output_type": "execute_result"
    }
   ],
   "source": [
    "data.head()"
   ]
  },
  {
   "cell_type": "markdown",
   "id": "01049506",
   "metadata": {
    "id": "01049506"
   },
   "source": [
    "# Data Cleaning"
   ]
  },
  {
   "cell_type": "code",
   "execution_count": 35,
   "id": "de994c05",
   "metadata": {
    "colab": {
     "base_uri": "https://localhost:8080/"
    },
    "id": "de994c05",
    "outputId": "f2e35d19-7a57-4914-b8a8-85f07eb2e5a4"
   },
   "outputs": [
    {
     "data": {
      "text/plain": [
       "Cust_Id         0\n",
       "Rating          0\n",
       "Movie_Id        0\n",
       "Genre        1086\n",
       "MovieName       0\n",
       "dtype: int64"
      ]
     },
     "execution_count": 35,
     "metadata": {},
     "output_type": "execute_result"
    }
   ],
   "source": [
    "data.isnull().sum()"
   ]
  },
  {
   "cell_type": "code",
   "execution_count": 36,
   "id": "492ac6ee",
   "metadata": {
    "colab": {
     "base_uri": "https://localhost:8080/"
    },
    "id": "492ac6ee",
    "outputId": "5c243428-cdee-4ee7-9f1a-7181449126a8"
   },
   "outputs": [
    {
     "data": {
      "text/plain": [
       "(1048574, 5)"
      ]
     },
     "execution_count": 36,
     "metadata": {},
     "output_type": "execute_result"
    }
   ],
   "source": [
    "data.shape"
   ]
  },
  {
   "cell_type": "code",
   "execution_count": 37,
   "id": "93b6594a",
   "metadata": {
    "colab": {
     "base_uri": "https://localhost:8080/"
    },
    "id": "93b6594a",
    "outputId": "276d2388-c7a3-4f8a-a543-469ed92d2e70"
   },
   "outputs": [
    {
     "data": {
      "text/plain": [
       "0.10356922830434476"
      ]
     },
     "execution_count": 37,
     "metadata": {},
     "output_type": "execute_result"
    }
   ],
   "source": [
    "#How many % of data is NA ?  \n",
    "(1086/1048574)*100"
   ]
  },
  {
   "cell_type": "code",
   "execution_count": 38,
   "id": "bdc8d0cc",
   "metadata": {
    "colab": {
     "base_uri": "https://localhost:8080/"
    },
    "id": "bdc8d0cc",
    "outputId": "e7811a36-1fe0-4d65-8648-4fe38d0595d9"
   },
   "outputs": [
    {
     "data": {
      "text/plain": [
       "(1048574, 5)"
      ]
     },
     "execution_count": 38,
     "metadata": {},
     "output_type": "execute_result"
    }
   ],
   "source": [
    "#Since only 0.1 % data is missing , it is negligible amount. Hence, deleting those rows.\n",
    "\n",
    "data.shape"
   ]
  },
  {
   "cell_type": "code",
   "execution_count": 39,
   "id": "6ca92ae2",
   "metadata": {
    "colab": {
     "base_uri": "https://localhost:8080/"
    },
    "id": "6ca92ae2",
    "outputId": "dc373dfe-fd85-4042-f3f2-cebdc486db17"
   },
   "outputs": [
    {
     "data": {
      "text/plain": [
       "(1047488, 5)"
      ]
     },
     "execution_count": 39,
     "metadata": {},
     "output_type": "execute_result"
    }
   ],
   "source": [
    "data=data.dropna()\n",
    "data.shape"
   ]
  },
  {
   "cell_type": "code",
   "execution_count": 40,
   "id": "02deb9d0",
   "metadata": {
    "colab": {
     "base_uri": "https://localhost:8080/"
    },
    "id": "02deb9d0",
    "outputId": "8ff6b5f6-ef37-4f81-ee30-162bafbf7af0"
   },
   "outputs": [
    {
     "data": {
      "text/plain": [
       "1086"
      ]
     },
     "execution_count": 40,
     "metadata": {},
     "output_type": "execute_result"
    }
   ],
   "source": [
    "1048574-1047488"
   ]
  },
  {
   "cell_type": "code",
   "execution_count": 41,
   "id": "50ec51a6",
   "metadata": {
    "colab": {
     "base_uri": "https://localhost:8080/"
    },
    "id": "50ec51a6",
    "outputId": "e0a1331a-a6df-489d-d40e-632548c9b965"
   },
   "outputs": [
    {
     "data": {
      "text/plain": [
       "0"
      ]
     },
     "execution_count": 41,
     "metadata": {},
     "output_type": "execute_result"
    }
   ],
   "source": [
    "#Checking if there are duplicate rows\n",
    "data.duplicated().sum()"
   ]
  },
  {
   "cell_type": "code",
   "execution_count": 42,
   "id": "06d18fa5",
   "metadata": {
    "colab": {
     "base_uri": "https://localhost:8080/"
    },
    "id": "06d18fa5",
    "outputId": "1ba04ddb-40a1-412f-ee2d-0434f11412ea"
   },
   "outputs": [
    {
     "name": "stdout",
     "output_type": "stream",
     "text": [
      "<class 'pandas.core.frame.DataFrame'>\n",
      "Int64Index: 1047488 entries, 0 to 1048573\n",
      "Data columns (total 5 columns):\n",
      " #   Column     Non-Null Count    Dtype \n",
      "---  ------     --------------    ----- \n",
      " 0   Cust_Id    1047488 non-null  int64 \n",
      " 1   Rating     1047488 non-null  int64 \n",
      " 2   Movie_Id   1047488 non-null  int64 \n",
      " 3   Genre      1047488 non-null  object\n",
      " 4   MovieName  1047488 non-null  object\n",
      "dtypes: int64(3), object(2)\n",
      "memory usage: 48.0+ MB\n"
     ]
    }
   ],
   "source": [
    "data.info()"
   ]
  },
  {
   "cell_type": "code",
   "execution_count": 43,
   "id": "9cef84e2",
   "metadata": {
    "colab": {
     "base_uri": "https://localhost:8080/",
     "height": 833
    },
    "id": "9cef84e2",
    "outputId": "047c766b-a4a0-4d16-d07d-49e38b632fd8"
   },
   "outputs": [
    {
     "data": {
      "text/html": [
       "\n",
       "  <div id=\"df-011386aa-92f6-4109-bac3-35d3c69b74e8\">\n",
       "    <div class=\"colab-df-container\">\n",
       "      <div>\n",
       "<style scoped>\n",
       "    .dataframe tbody tr th:only-of-type {\n",
       "        vertical-align: middle;\n",
       "    }\n",
       "\n",
       "    .dataframe tbody tr th {\n",
       "        vertical-align: top;\n",
       "    }\n",
       "\n",
       "    .dataframe thead th {\n",
       "        text-align: right;\n",
       "    }\n",
       "</style>\n",
       "<table border=\"1\" class=\"dataframe\">\n",
       "  <thead>\n",
       "    <tr style=\"text-align: right;\">\n",
       "      <th></th>\n",
       "      <th>Cust_Id</th>\n",
       "      <th>Rating</th>\n",
       "      <th>Movie_Id</th>\n",
       "      <th>Genre</th>\n",
       "      <th>MovieName</th>\n",
       "    </tr>\n",
       "  </thead>\n",
       "  <tbody>\n",
       "    <tr>\n",
       "      <th>0</th>\n",
       "      <td>1488844</td>\n",
       "      <td>3</td>\n",
       "      <td>1</td>\n",
       "      <td>Action</td>\n",
       "      <td>Dinosaur Planet</td>\n",
       "    </tr>\n",
       "    <tr>\n",
       "      <th>5149</th>\n",
       "      <td>1488844</td>\n",
       "      <td>4</td>\n",
       "      <td>8</td>\n",
       "      <td>Animation</td>\n",
       "      <td>What the #$*! Do We Know!?</td>\n",
       "    </tr>\n",
       "    <tr>\n",
       "      <th>24352</th>\n",
       "      <td>1488844</td>\n",
       "      <td>2</td>\n",
       "      <td>17</td>\n",
       "      <td>Thriller</td>\n",
       "      <td>7 Seconds</td>\n",
       "    </tr>\n",
       "    <tr>\n",
       "      <th>93266</th>\n",
       "      <td>1488844</td>\n",
       "      <td>3</td>\n",
       "      <td>30</td>\n",
       "      <td>Historical</td>\n",
       "      <td>Something's Gotta Give</td>\n",
       "    </tr>\n",
       "    <tr>\n",
       "      <th>224744</th>\n",
       "      <td>1488844</td>\n",
       "      <td>3</td>\n",
       "      <td>44</td>\n",
       "      <td>Historical</td>\n",
       "      <td>Spitfire Grill</td>\n",
       "    </tr>\n",
       "    <tr>\n",
       "      <th>262264</th>\n",
       "      <td>1488844</td>\n",
       "      <td>5</td>\n",
       "      <td>58</td>\n",
       "      <td>Other</td>\n",
       "      <td>Dragonheart</td>\n",
       "    </tr>\n",
       "    <tr>\n",
       "      <th>287314</th>\n",
       "      <td>1488844</td>\n",
       "      <td>3</td>\n",
       "      <td>76</td>\n",
       "      <td>Sci-Fi</td>\n",
       "      <td>I Love Lucy: Season 2</td>\n",
       "    </tr>\n",
       "    <tr>\n",
       "      <th>312105</th>\n",
       "      <td>1488844</td>\n",
       "      <td>3</td>\n",
       "      <td>80</td>\n",
       "      <td>Documentary</td>\n",
       "      <td>Winter Kills</td>\n",
       "    </tr>\n",
       "    <tr>\n",
       "      <th>312388</th>\n",
       "      <td>1488844</td>\n",
       "      <td>3</td>\n",
       "      <td>81</td>\n",
       "      <td>Educational</td>\n",
       "      <td>Antarctica: IMAX</td>\n",
       "    </tr>\n",
       "    <tr>\n",
       "      <th>313761</th>\n",
       "      <td>1488844</td>\n",
       "      <td>3</td>\n",
       "      <td>83</td>\n",
       "      <td>Gang</td>\n",
       "      <td>Silkwood</td>\n",
       "    </tr>\n",
       "    <tr>\n",
       "      <th>359182</th>\n",
       "      <td>1488844</td>\n",
       "      <td>3</td>\n",
       "      <td>108</td>\n",
       "      <td>RomCom</td>\n",
       "      <td>Spartan</td>\n",
       "    </tr>\n",
       "    <tr>\n",
       "      <th>380947</th>\n",
       "      <td>1488844</td>\n",
       "      <td>2</td>\n",
       "      <td>111</td>\n",
       "      <td>Animation</td>\n",
       "      <td>Duplex (Widescreen)</td>\n",
       "    </tr>\n",
       "    <tr>\n",
       "      <th>415841</th>\n",
       "      <td>1488844</td>\n",
       "      <td>3</td>\n",
       "      <td>118</td>\n",
       "      <td>War</td>\n",
       "      <td>Rambo: First Blood Part II</td>\n",
       "    </tr>\n",
       "    <tr>\n",
       "      <th>458301</th>\n",
       "      <td>1488844</td>\n",
       "      <td>5</td>\n",
       "      <td>143</td>\n",
       "      <td>Crime</td>\n",
       "      <td>The Game</td>\n",
       "    </tr>\n",
       "    <tr>\n",
       "      <th>574958</th>\n",
       "      <td>1488844</td>\n",
       "      <td>3</td>\n",
       "      <td>173</td>\n",
       "      <td>Biography</td>\n",
       "      <td>The Devil's Brigade</td>\n",
       "    </tr>\n",
       "    <tr>\n",
       "      <th>577779</th>\n",
       "      <td>1488844</td>\n",
       "      <td>3</td>\n",
       "      <td>175</td>\n",
       "      <td>Historical</td>\n",
       "      <td>Reservoir Dogs</td>\n",
       "    </tr>\n",
       "    <tr>\n",
       "      <th>679944</th>\n",
       "      <td>1488844</td>\n",
       "      <td>2</td>\n",
       "      <td>187</td>\n",
       "      <td>Biography</td>\n",
       "      <td>Death to Smoochy</td>\n",
       "    </tr>\n",
       "    <tr>\n",
       "      <th>702521</th>\n",
       "      <td>1488844</td>\n",
       "      <td>2</td>\n",
       "      <td>189</td>\n",
       "      <td>Historical</td>\n",
       "      <td>Airplane II: The Sequel</td>\n",
       "    </tr>\n",
       "    <tr>\n",
       "      <th>717110</th>\n",
       "      <td>1488844</td>\n",
       "      <td>5</td>\n",
       "      <td>191</td>\n",
       "      <td>Educational</td>\n",
       "      <td>X2: X-Men United</td>\n",
       "    </tr>\n",
       "    <tr>\n",
       "      <th>816455</th>\n",
       "      <td>1488844</td>\n",
       "      <td>4</td>\n",
       "      <td>195</td>\n",
       "      <td>Animation</td>\n",
       "      <td>Chasing Freedom</td>\n",
       "    </tr>\n",
       "    <tr>\n",
       "      <th>817119</th>\n",
       "      <td>1488844</td>\n",
       "      <td>3</td>\n",
       "      <td>197</td>\n",
       "      <td>Mystery</td>\n",
       "      <td>Taking Lives</td>\n",
       "    </tr>\n",
       "    <tr>\n",
       "      <th>898435</th>\n",
       "      <td>1488844</td>\n",
       "      <td>3</td>\n",
       "      <td>199</td>\n",
       "      <td>Crime</td>\n",
       "      <td>The Deer Hunter</td>\n",
       "    </tr>\n",
       "    <tr>\n",
       "      <th>957451</th>\n",
       "      <td>1488844</td>\n",
       "      <td>3</td>\n",
       "      <td>216</td>\n",
       "      <td>War</td>\n",
       "      <td>Impostor</td>\n",
       "    </tr>\n",
       "    <tr>\n",
       "      <th>1003230</th>\n",
       "      <td>1488844</td>\n",
       "      <td>3</td>\n",
       "      <td>232</td>\n",
       "      <td>Documentary</td>\n",
       "      <td>Gross Anatomy</td>\n",
       "    </tr>\n",
       "    <tr>\n",
       "      <th>1019501</th>\n",
       "      <td>1488844</td>\n",
       "      <td>3</td>\n",
       "      <td>241</td>\n",
       "      <td>Horror</td>\n",
       "      <td>North by NorthWest</td>\n",
       "    </tr>\n",
       "  </tbody>\n",
       "</table>\n",
       "</div>\n",
       "      <button class=\"colab-df-convert\" onclick=\"convertToInteractive('df-011386aa-92f6-4109-bac3-35d3c69b74e8')\"\n",
       "              title=\"Convert this dataframe to an interactive table.\"\n",
       "              style=\"display:none;\">\n",
       "        \n",
       "  <svg xmlns=\"http://www.w3.org/2000/svg\" height=\"24px\"viewBox=\"0 0 24 24\"\n",
       "       width=\"24px\">\n",
       "    <path d=\"M0 0h24v24H0V0z\" fill=\"none\"/>\n",
       "    <path d=\"M18.56 5.44l.94 2.06.94-2.06 2.06-.94-2.06-.94-.94-2.06-.94 2.06-2.06.94zm-11 1L8.5 8.5l.94-2.06 2.06-.94-2.06-.94L8.5 2.5l-.94 2.06-2.06.94zm10 10l.94 2.06.94-2.06 2.06-.94-2.06-.94-.94-2.06-.94 2.06-2.06.94z\"/><path d=\"M17.41 7.96l-1.37-1.37c-.4-.4-.92-.59-1.43-.59-.52 0-1.04.2-1.43.59L10.3 9.45l-7.72 7.72c-.78.78-.78 2.05 0 2.83L4 21.41c.39.39.9.59 1.41.59.51 0 1.02-.2 1.41-.59l7.78-7.78 2.81-2.81c.8-.78.8-2.07 0-2.86zM5.41 20L4 18.59l7.72-7.72 1.47 1.35L5.41 20z\"/>\n",
       "  </svg>\n",
       "      </button>\n",
       "      \n",
       "  <style>\n",
       "    .colab-df-container {\n",
       "      display:flex;\n",
       "      flex-wrap:wrap;\n",
       "      gap: 12px;\n",
       "    }\n",
       "\n",
       "    .colab-df-convert {\n",
       "      background-color: #E8F0FE;\n",
       "      border: none;\n",
       "      border-radius: 50%;\n",
       "      cursor: pointer;\n",
       "      display: none;\n",
       "      fill: #1967D2;\n",
       "      height: 32px;\n",
       "      padding: 0 0 0 0;\n",
       "      width: 32px;\n",
       "    }\n",
       "\n",
       "    .colab-df-convert:hover {\n",
       "      background-color: #E2EBFA;\n",
       "      box-shadow: 0px 1px 2px rgba(60, 64, 67, 0.3), 0px 1px 3px 1px rgba(60, 64, 67, 0.15);\n",
       "      fill: #174EA6;\n",
       "    }\n",
       "\n",
       "    [theme=dark] .colab-df-convert {\n",
       "      background-color: #3B4455;\n",
       "      fill: #D2E3FC;\n",
       "    }\n",
       "\n",
       "    [theme=dark] .colab-df-convert:hover {\n",
       "      background-color: #434B5C;\n",
       "      box-shadow: 0px 1px 3px 1px rgba(0, 0, 0, 0.15);\n",
       "      filter: drop-shadow(0px 1px 2px rgba(0, 0, 0, 0.3));\n",
       "      fill: #FFFFFF;\n",
       "    }\n",
       "  </style>\n",
       "\n",
       "      <script>\n",
       "        const buttonEl =\n",
       "          document.querySelector('#df-011386aa-92f6-4109-bac3-35d3c69b74e8 button.colab-df-convert');\n",
       "        buttonEl.style.display =\n",
       "          google.colab.kernel.accessAllowed ? 'block' : 'none';\n",
       "\n",
       "        async function convertToInteractive(key) {\n",
       "          const element = document.querySelector('#df-011386aa-92f6-4109-bac3-35d3c69b74e8');\n",
       "          const dataTable =\n",
       "            await google.colab.kernel.invokeFunction('convertToInteractive',\n",
       "                                                     [key], {});\n",
       "          if (!dataTable) return;\n",
       "\n",
       "          const docLinkHtml = 'Like what you see? Visit the ' +\n",
       "            '<a target=\"_blank\" href=https://colab.research.google.com/notebooks/data_table.ipynb>data table notebook</a>'\n",
       "            + ' to learn more about interactive tables.';\n",
       "          element.innerHTML = '';\n",
       "          dataTable['output_type'] = 'display_data';\n",
       "          await google.colab.output.renderOutput(dataTable, element);\n",
       "          const docLink = document.createElement('div');\n",
       "          docLink.innerHTML = docLinkHtml;\n",
       "          element.appendChild(docLink);\n",
       "        }\n",
       "      </script>\n",
       "    </div>\n",
       "  </div>\n",
       "  "
      ],
      "text/plain": [
       "         Cust_Id  Rating  Movie_Id        Genre                   MovieName\n",
       "0        1488844       3         1       Action             Dinosaur Planet\n",
       "5149     1488844       4         8    Animation  What the #$*! Do We Know!?\n",
       "24352    1488844       2        17     Thriller                   7 Seconds\n",
       "93266    1488844       3        30   Historical      Something's Gotta Give\n",
       "224744   1488844       3        44   Historical              Spitfire Grill\n",
       "262264   1488844       5        58        Other                 Dragonheart\n",
       "287314   1488844       3        76       Sci-Fi       I Love Lucy: Season 2\n",
       "312105   1488844       3        80  Documentary                Winter Kills\n",
       "312388   1488844       3        81  Educational            Antarctica: IMAX\n",
       "313761   1488844       3        83         Gang                    Silkwood\n",
       "359182   1488844       3       108       RomCom                     Spartan\n",
       "380947   1488844       2       111    Animation         Duplex (Widescreen)\n",
       "415841   1488844       3       118          War  Rambo: First Blood Part II\n",
       "458301   1488844       5       143        Crime                    The Game\n",
       "574958   1488844       3       173    Biography         The Devil's Brigade\n",
       "577779   1488844       3       175   Historical              Reservoir Dogs\n",
       "679944   1488844       2       187    Biography            Death to Smoochy\n",
       "702521   1488844       2       189   Historical     Airplane II: The Sequel\n",
       "717110   1488844       5       191  Educational            X2: X-Men United\n",
       "816455   1488844       4       195    Animation             Chasing Freedom\n",
       "817119   1488844       3       197      Mystery                Taking Lives\n",
       "898435   1488844       3       199        Crime             The Deer Hunter\n",
       "957451   1488844       3       216          War                    Impostor\n",
       "1003230  1488844       3       232  Documentary               Gross Anatomy\n",
       "1019501  1488844       3       241       Horror          North by NorthWest"
      ]
     },
     "execution_count": 43,
     "metadata": {},
     "output_type": "execute_result"
    }
   ],
   "source": [
    "#Checking the data for a particular Customer 1488844\n",
    "data[data['Cust_Id']==1488844]"
   ]
  },
  {
   "cell_type": "markdown",
   "id": "e9391c1f",
   "metadata": {
    "id": "e9391c1f"
   },
   "source": [
    "# 1.Find out the list of most popular and liked genre"
   ]
  },
  {
   "cell_type": "code",
   "execution_count": 44,
   "id": "18e3ac9f",
   "metadata": {
    "id": "18e3ac9f"
   },
   "outputs": [],
   "source": [
    "#Most Popular - Most Watched\n",
    "#Most Like - Higher rating\n",
    "\n",
    "# Most Watched + Highher Rating"
   ]
  },
  {
   "cell_type": "code",
   "execution_count": 65,
   "id": "3f8311ae",
   "metadata": {
    "colab": {
     "base_uri": "https://localhost:8080/",
     "height": 708
    },
    "id": "3f8311ae",
    "outputId": "d39a4ea1-1447-4634-d19c-e201a681c8ee"
   },
   "outputs": [
    {
     "data": {
      "text/html": [
       "\n",
       "  <div id=\"df-e97e2346-ebe3-42db-8066-69269ea0a90d\">\n",
       "    <div class=\"colab-df-container\">\n",
       "      <div>\n",
       "<style scoped>\n",
       "    .dataframe tbody tr th:only-of-type {\n",
       "        vertical-align: middle;\n",
       "    }\n",
       "\n",
       "    .dataframe tbody tr th {\n",
       "        vertical-align: top;\n",
       "    }\n",
       "\n",
       "    .dataframe thead th {\n",
       "        text-align: right;\n",
       "    }\n",
       "</style>\n",
       "<table border=\"1\" class=\"dataframe\">\n",
       "  <thead>\n",
       "    <tr style=\"text-align: right;\">\n",
       "      <th></th>\n",
       "      <th>count</th>\n",
       "      <th>mean</th>\n",
       "    </tr>\n",
       "    <tr>\n",
       "      <th>Genre</th>\n",
       "      <th></th>\n",
       "      <th></th>\n",
       "    </tr>\n",
       "  </thead>\n",
       "  <tbody>\n",
       "    <tr>\n",
       "      <th>Action</th>\n",
       "      <td>547</td>\n",
       "      <td>3.749543</td>\n",
       "    </tr>\n",
       "    <tr>\n",
       "      <th>Animation</th>\n",
       "      <td>123898</td>\n",
       "      <td>3.581107</td>\n",
       "    </tr>\n",
       "    <tr>\n",
       "      <th>Biography</th>\n",
       "      <td>88510</td>\n",
       "      <td>3.463439</td>\n",
       "    </tr>\n",
       "    <tr>\n",
       "      <th>Comedy</th>\n",
       "      <td>145</td>\n",
       "      <td>3.558621</td>\n",
       "    </tr>\n",
       "    <tr>\n",
       "      <th>Crime</th>\n",
       "      <td>97323</td>\n",
       "      <td>3.728872</td>\n",
       "    </tr>\n",
       "    <tr>\n",
       "      <th>Documentary</th>\n",
       "      <td>38282</td>\n",
       "      <td>3.311661</td>\n",
       "    </tr>\n",
       "    <tr>\n",
       "      <th>Drama</th>\n",
       "      <td>19258</td>\n",
       "      <td>3.496365</td>\n",
       "    </tr>\n",
       "    <tr>\n",
       "      <th>Educational</th>\n",
       "      <td>111976</td>\n",
       "      <td>3.898523</td>\n",
       "    </tr>\n",
       "    <tr>\n",
       "      <th>Fan</th>\n",
       "      <td>13278</td>\n",
       "      <td>3.465356</td>\n",
       "    </tr>\n",
       "    <tr>\n",
       "      <th>Fiction</th>\n",
       "      <td>1019</td>\n",
       "      <td>3.084396</td>\n",
       "    </tr>\n",
       "    <tr>\n",
       "      <th>Gang</th>\n",
       "      <td>54861</td>\n",
       "      <td>3.680611</td>\n",
       "    </tr>\n",
       "    <tr>\n",
       "      <th>Historical</th>\n",
       "      <td>240327</td>\n",
       "      <td>3.817948</td>\n",
       "    </tr>\n",
       "    <tr>\n",
       "      <th>Horror</th>\n",
       "      <td>31271</td>\n",
       "      <td>4.123181</td>\n",
       "    </tr>\n",
       "    <tr>\n",
       "      <th>Mystery</th>\n",
       "      <td>100898</td>\n",
       "      <td>3.390731</td>\n",
       "    </tr>\n",
       "    <tr>\n",
       "      <th>Other</th>\n",
       "      <td>25436</td>\n",
       "      <td>3.551541</td>\n",
       "    </tr>\n",
       "    <tr>\n",
       "      <th>RomCom</th>\n",
       "      <td>39629</td>\n",
       "      <td>3.383633</td>\n",
       "    </tr>\n",
       "    <tr>\n",
       "      <th>Romance</th>\n",
       "      <td>142</td>\n",
       "      <td>2.739437</td>\n",
       "    </tr>\n",
       "    <tr>\n",
       "      <th>Sci-Fi</th>\n",
       "      <td>7654</td>\n",
       "      <td>3.477920</td>\n",
       "    </tr>\n",
       "    <tr>\n",
       "      <th>Thriller</th>\n",
       "      <td>9588</td>\n",
       "      <td>3.073112</td>\n",
       "    </tr>\n",
       "    <tr>\n",
       "      <th>War</th>\n",
       "      <td>43446</td>\n",
       "      <td>3.288243</td>\n",
       "    </tr>\n",
       "  </tbody>\n",
       "</table>\n",
       "</div>\n",
       "      <button class=\"colab-df-convert\" onclick=\"convertToInteractive('df-e97e2346-ebe3-42db-8066-69269ea0a90d')\"\n",
       "              title=\"Convert this dataframe to an interactive table.\"\n",
       "              style=\"display:none;\">\n",
       "        \n",
       "  <svg xmlns=\"http://www.w3.org/2000/svg\" height=\"24px\"viewBox=\"0 0 24 24\"\n",
       "       width=\"24px\">\n",
       "    <path d=\"M0 0h24v24H0V0z\" fill=\"none\"/>\n",
       "    <path d=\"M18.56 5.44l.94 2.06.94-2.06 2.06-.94-2.06-.94-.94-2.06-.94 2.06-2.06.94zm-11 1L8.5 8.5l.94-2.06 2.06-.94-2.06-.94L8.5 2.5l-.94 2.06-2.06.94zm10 10l.94 2.06.94-2.06 2.06-.94-2.06-.94-.94-2.06-.94 2.06-2.06.94z\"/><path d=\"M17.41 7.96l-1.37-1.37c-.4-.4-.92-.59-1.43-.59-.52 0-1.04.2-1.43.59L10.3 9.45l-7.72 7.72c-.78.78-.78 2.05 0 2.83L4 21.41c.39.39.9.59 1.41.59.51 0 1.02-.2 1.41-.59l7.78-7.78 2.81-2.81c.8-.78.8-2.07 0-2.86zM5.41 20L4 18.59l7.72-7.72 1.47 1.35L5.41 20z\"/>\n",
       "  </svg>\n",
       "      </button>\n",
       "      \n",
       "  <style>\n",
       "    .colab-df-container {\n",
       "      display:flex;\n",
       "      flex-wrap:wrap;\n",
       "      gap: 12px;\n",
       "    }\n",
       "\n",
       "    .colab-df-convert {\n",
       "      background-color: #E8F0FE;\n",
       "      border: none;\n",
       "      border-radius: 50%;\n",
       "      cursor: pointer;\n",
       "      display: none;\n",
       "      fill: #1967D2;\n",
       "      height: 32px;\n",
       "      padding: 0 0 0 0;\n",
       "      width: 32px;\n",
       "    }\n",
       "\n",
       "    .colab-df-convert:hover {\n",
       "      background-color: #E2EBFA;\n",
       "      box-shadow: 0px 1px 2px rgba(60, 64, 67, 0.3), 0px 1px 3px 1px rgba(60, 64, 67, 0.15);\n",
       "      fill: #174EA6;\n",
       "    }\n",
       "\n",
       "    [theme=dark] .colab-df-convert {\n",
       "      background-color: #3B4455;\n",
       "      fill: #D2E3FC;\n",
       "    }\n",
       "\n",
       "    [theme=dark] .colab-df-convert:hover {\n",
       "      background-color: #434B5C;\n",
       "      box-shadow: 0px 1px 3px 1px rgba(0, 0, 0, 0.15);\n",
       "      filter: drop-shadow(0px 1px 2px rgba(0, 0, 0, 0.3));\n",
       "      fill: #FFFFFF;\n",
       "    }\n",
       "  </style>\n",
       "\n",
       "      <script>\n",
       "        const buttonEl =\n",
       "          document.querySelector('#df-e97e2346-ebe3-42db-8066-69269ea0a90d button.colab-df-convert');\n",
       "        buttonEl.style.display =\n",
       "          google.colab.kernel.accessAllowed ? 'block' : 'none';\n",
       "\n",
       "        async function convertToInteractive(key) {\n",
       "          const element = document.querySelector('#df-e97e2346-ebe3-42db-8066-69269ea0a90d');\n",
       "          const dataTable =\n",
       "            await google.colab.kernel.invokeFunction('convertToInteractive',\n",
       "                                                     [key], {});\n",
       "          if (!dataTable) return;\n",
       "\n",
       "          const docLinkHtml = 'Like what you see? Visit the ' +\n",
       "            '<a target=\"_blank\" href=https://colab.research.google.com/notebooks/data_table.ipynb>data table notebook</a>'\n",
       "            + ' to learn more about interactive tables.';\n",
       "          element.innerHTML = '';\n",
       "          dataTable['output_type'] = 'display_data';\n",
       "          await google.colab.output.renderOutput(dataTable, element);\n",
       "          const docLink = document.createElement('div');\n",
       "          docLink.innerHTML = docLinkHtml;\n",
       "          element.appendChild(docLink);\n",
       "        }\n",
       "      </script>\n",
       "    </div>\n",
       "  </div>\n",
       "  "
      ],
      "text/plain": [
       "              count      mean\n",
       "Genre                        \n",
       "Action          547  3.749543\n",
       "Animation    123898  3.581107\n",
       "Biography     88510  3.463439\n",
       "Comedy          145  3.558621\n",
       "Crime         97323  3.728872\n",
       "Documentary   38282  3.311661\n",
       "Drama         19258  3.496365\n",
       "Educational  111976  3.898523\n",
       "Fan           13278  3.465356\n",
       "Fiction        1019  3.084396\n",
       "Gang          54861  3.680611\n",
       "Historical   240327  3.817948\n",
       "Horror        31271  4.123181\n",
       "Mystery      100898  3.390731\n",
       "Other         25436  3.551541\n",
       "RomCom        39629  3.383633\n",
       "Romance         142  2.739437\n",
       "Sci-Fi         7654  3.477920\n",
       "Thriller       9588  3.073112\n",
       "War           43446  3.288243"
      ]
     },
     "execution_count": 65,
     "metadata": {},
     "output_type": "execute_result"
    }
   ],
   "source": [
    "#Calculated the count of no. of reviews per genre(i.e no. of times it is watched) and avg rating for each genre\n",
    "genre_summary=data.groupby('Genre')['Rating'].agg(['count','mean'])\n",
    "genre_summary"
   ]
  },
  {
   "cell_type": "code",
   "execution_count": 46,
   "id": "7a0bfe4e",
   "metadata": {
    "colab": {
     "base_uri": "https://localhost:8080/"
    },
    "id": "7a0bfe4e",
    "outputId": "ed0097e6-1121-4101-a5fc-3deaf19a8a66"
   },
   "outputs": [
    {
     "name": "stdout",
     "output_type": "stream",
     "text": [
      "Most Higher Rated Genre BenchMark  :  3.610958227374906\n",
      "List of most liked Genre :  ['Action' 'Crime' 'Educational' 'Gang' 'Historical' 'Horror']\n"
     ]
    }
   ],
   "source": [
    "#Finding top 30 percentile genre based on ratings i.e most like genres\n",
    "\n",
    "genre_rating_benchmark=genre_summary['mean'].quantile(0.7)\n",
    "genre_most_liked=genre_summary[genre_summary['mean']>genre_rating_benchmark]\n",
    "genre_most_liked=np.array(genre_most_liked.index)\n",
    "print('Most Higher Rated Genre BenchMark  : ',genre_rating_benchmark)\n",
    "print('List of most liked Genre : ',genre_most_liked)"
   ]
  },
  {
   "cell_type": "code",
   "execution_count": 47,
   "id": "5c2b7434",
   "metadata": {
    "colab": {
     "base_uri": "https://localhost:8080/"
    },
    "id": "5c2b7434",
    "outputId": "b6c85fe0-5a94-48f2-f982-78807df0e4a4"
   },
   "outputs": [
    {
     "name": "stdout",
     "output_type": "stream",
     "text": [
      "Most Watched Genre BenchMark  :  64955.69999999997\n",
      "List of most popular Genre :  ['Animation' 'Biography' 'Crime' 'Educational' 'Historical' 'Mystery']\n"
     ]
    }
   ],
   "source": [
    "##Finding top 30 percentile genre based on count i.e most watched/popular genres\n",
    "genre_count_benchmark=genre_summary['count'].quantile(0.7)\n",
    "genre_most_popular=genre_summary[genre_summary['count']>genre_count_benchmark]\n",
    "genre_most_popular=np.array(genre_most_popular.index)\n",
    "print('Most Watched Genre BenchMark  : ',genre_count_benchmark)\n",
    "print('List of most popular Genre : ',genre_most_popular)"
   ]
  },
  {
   "cell_type": "code",
   "execution_count": 48,
   "id": "6f89950d",
   "metadata": {
    "colab": {
     "base_uri": "https://localhost:8080/"
    },
    "id": "6f89950d",
    "outputId": "032c212f-d95d-4042-f970-37bf2048eb25"
   },
   "outputs": [
    {
     "data": {
      "text/plain": [
       "array(['Crime', 'Educational', 'Historical'], dtype=object)"
      ]
     },
     "execution_count": 48,
     "metadata": {},
     "output_type": "execute_result"
    }
   ],
   "source": [
    "#Calculating the intersection of most liked and most popular genre\n",
    "genre_most_liked_popular=np.intersect1d(genre_most_liked,genre_most_popular)\n",
    "genre_most_liked_popular"
   ]
  },
  {
   "cell_type": "markdown",
   "id": "49b66ff0",
   "metadata": {
    "id": "49b66ff0"
   },
   "source": [
    "# Answer:  Most Popular and Liked Genre = ['Crime', 'Educational', 'Historical']"
   ]
  },
  {
   "cell_type": "markdown",
   "id": "b6ea17ca",
   "metadata": {
    "id": "b6ea17ca"
   },
   "source": [
    "# 2.Create Model that finds the best suited Movie for one user in every genre."
   ]
  },
  {
   "cell_type": "code",
   "execution_count": 49,
   "id": "23b3cce6",
   "metadata": {
    "colab": {
     "base_uri": "https://localhost:8080/",
     "height": 112
    },
    "id": "23b3cce6",
    "outputId": "f9617173-28e0-434c-e1cf-9b572c3a94f3"
   },
   "outputs": [
    {
     "data": {
      "text/html": [
       "\n",
       "  <div id=\"df-5550b130-e876-4e89-a88c-046b4765a54a\">\n",
       "    <div class=\"colab-df-container\">\n",
       "      <div>\n",
       "<style scoped>\n",
       "    .dataframe tbody tr th:only-of-type {\n",
       "        vertical-align: middle;\n",
       "    }\n",
       "\n",
       "    .dataframe tbody tr th {\n",
       "        vertical-align: top;\n",
       "    }\n",
       "\n",
       "    .dataframe thead th {\n",
       "        text-align: right;\n",
       "    }\n",
       "</style>\n",
       "<table border=\"1\" class=\"dataframe\">\n",
       "  <thead>\n",
       "    <tr style=\"text-align: right;\">\n",
       "      <th></th>\n",
       "      <th>Cust_Id</th>\n",
       "      <th>Rating</th>\n",
       "      <th>Movie_Id</th>\n",
       "      <th>Genre</th>\n",
       "      <th>MovieName</th>\n",
       "    </tr>\n",
       "  </thead>\n",
       "  <tbody>\n",
       "    <tr>\n",
       "      <th>6</th>\n",
       "      <td>124105</td>\n",
       "      <td>4</td>\n",
       "      <td>1</td>\n",
       "      <td>Action</td>\n",
       "      <td>Dinosaur Planet</td>\n",
       "    </tr>\n",
       "    <tr>\n",
       "      <th>717852</th>\n",
       "      <td>124105</td>\n",
       "      <td>5</td>\n",
       "      <td>191</td>\n",
       "      <td>Educational</td>\n",
       "      <td>X2: X-Men United</td>\n",
       "    </tr>\n",
       "  </tbody>\n",
       "</table>\n",
       "</div>\n",
       "      <button class=\"colab-df-convert\" onclick=\"convertToInteractive('df-5550b130-e876-4e89-a88c-046b4765a54a')\"\n",
       "              title=\"Convert this dataframe to an interactive table.\"\n",
       "              style=\"display:none;\">\n",
       "        \n",
       "  <svg xmlns=\"http://www.w3.org/2000/svg\" height=\"24px\"viewBox=\"0 0 24 24\"\n",
       "       width=\"24px\">\n",
       "    <path d=\"M0 0h24v24H0V0z\" fill=\"none\"/>\n",
       "    <path d=\"M18.56 5.44l.94 2.06.94-2.06 2.06-.94-2.06-.94-.94-2.06-.94 2.06-2.06.94zm-11 1L8.5 8.5l.94-2.06 2.06-.94-2.06-.94L8.5 2.5l-.94 2.06-2.06.94zm10 10l.94 2.06.94-2.06 2.06-.94-2.06-.94-.94-2.06-.94 2.06-2.06.94z\"/><path d=\"M17.41 7.96l-1.37-1.37c-.4-.4-.92-.59-1.43-.59-.52 0-1.04.2-1.43.59L10.3 9.45l-7.72 7.72c-.78.78-.78 2.05 0 2.83L4 21.41c.39.39.9.59 1.41.59.51 0 1.02-.2 1.41-.59l7.78-7.78 2.81-2.81c.8-.78.8-2.07 0-2.86zM5.41 20L4 18.59l7.72-7.72 1.47 1.35L5.41 20z\"/>\n",
       "  </svg>\n",
       "      </button>\n",
       "      \n",
       "  <style>\n",
       "    .colab-df-container {\n",
       "      display:flex;\n",
       "      flex-wrap:wrap;\n",
       "      gap: 12px;\n",
       "    }\n",
       "\n",
       "    .colab-df-convert {\n",
       "      background-color: #E8F0FE;\n",
       "      border: none;\n",
       "      border-radius: 50%;\n",
       "      cursor: pointer;\n",
       "      display: none;\n",
       "      fill: #1967D2;\n",
       "      height: 32px;\n",
       "      padding: 0 0 0 0;\n",
       "      width: 32px;\n",
       "    }\n",
       "\n",
       "    .colab-df-convert:hover {\n",
       "      background-color: #E2EBFA;\n",
       "      box-shadow: 0px 1px 2px rgba(60, 64, 67, 0.3), 0px 1px 3px 1px rgba(60, 64, 67, 0.15);\n",
       "      fill: #174EA6;\n",
       "    }\n",
       "\n",
       "    [theme=dark] .colab-df-convert {\n",
       "      background-color: #3B4455;\n",
       "      fill: #D2E3FC;\n",
       "    }\n",
       "\n",
       "    [theme=dark] .colab-df-convert:hover {\n",
       "      background-color: #434B5C;\n",
       "      box-shadow: 0px 1px 3px 1px rgba(0, 0, 0, 0.15);\n",
       "      filter: drop-shadow(0px 1px 2px rgba(0, 0, 0, 0.3));\n",
       "      fill: #FFFFFF;\n",
       "    }\n",
       "  </style>\n",
       "\n",
       "      <script>\n",
       "        const buttonEl =\n",
       "          document.querySelector('#df-5550b130-e876-4e89-a88c-046b4765a54a button.colab-df-convert');\n",
       "        buttonEl.style.display =\n",
       "          google.colab.kernel.accessAllowed ? 'block' : 'none';\n",
       "\n",
       "        async function convertToInteractive(key) {\n",
       "          const element = document.querySelector('#df-5550b130-e876-4e89-a88c-046b4765a54a');\n",
       "          const dataTable =\n",
       "            await google.colab.kernel.invokeFunction('convertToInteractive',\n",
       "                                                     [key], {});\n",
       "          if (!dataTable) return;\n",
       "\n",
       "          const docLinkHtml = 'Like what you see? Visit the ' +\n",
       "            '<a target=\"_blank\" href=https://colab.research.google.com/notebooks/data_table.ipynb>data table notebook</a>'\n",
       "            + ' to learn more about interactive tables.';\n",
       "          element.innerHTML = '';\n",
       "          dataTable['output_type'] = 'display_data';\n",
       "          await google.colab.output.renderOutput(dataTable, element);\n",
       "          const docLink = document.createElement('div');\n",
       "          docLink.innerHTML = docLinkHtml;\n",
       "          element.appendChild(docLink);\n",
       "        }\n",
       "      </script>\n",
       "    </div>\n",
       "  </div>\n",
       "  "
      ],
      "text/plain": [
       "        Cust_Id  Rating  Movie_Id        Genre         MovieName\n",
       "6        124105       4         1       Action   Dinosaur Planet\n",
       "717852   124105       5       191  Educational  X2: X-Men United"
      ]
     },
     "execution_count": 49,
     "metadata": {},
     "output_type": "execute_result"
    }
   ],
   "source": [
    "data[data['Cust_Id']==124105]"
   ]
  },
  {
   "cell_type": "code",
   "execution_count": 50,
   "id": "3f8f3e0d",
   "metadata": {
    "colab": {
     "base_uri": "https://localhost:8080/"
    },
    "id": "3f8f3e0d",
    "outputId": "761edcf6-c14c-4d95-9ed9-3f9b32378e18"
   },
   "outputs": [
    {
     "data": {
      "text/plain": [
       "20"
      ]
     },
     "execution_count": 50,
     "metadata": {},
     "output_type": "execute_result"
    }
   ],
   "source": [
    "data.Genre.value_counts().count()"
   ]
  },
  {
   "cell_type": "code",
   "execution_count": 51,
   "id": "06ac0ab1",
   "metadata": {
    "id": "06ac0ab1"
   },
   "outputs": [],
   "source": [
    "data_model=data[['Cust_Id','Rating','Movie_Id']]"
   ]
  },
  {
   "cell_type": "code",
   "execution_count": 52,
   "id": "23f94501",
   "metadata": {
    "colab": {
     "base_uri": "https://localhost:8080/",
     "height": 206
    },
    "id": "23f94501",
    "outputId": "4168f630-6bc2-4ab2-c705-ed1658df0fd1"
   },
   "outputs": [
    {
     "data": {
      "text/html": [
       "\n",
       "  <div id=\"df-b9d4e6ec-7c33-457b-8676-1ba19cbffdeb\">\n",
       "    <div class=\"colab-df-container\">\n",
       "      <div>\n",
       "<style scoped>\n",
       "    .dataframe tbody tr th:only-of-type {\n",
       "        vertical-align: middle;\n",
       "    }\n",
       "\n",
       "    .dataframe tbody tr th {\n",
       "        vertical-align: top;\n",
       "    }\n",
       "\n",
       "    .dataframe thead th {\n",
       "        text-align: right;\n",
       "    }\n",
       "</style>\n",
       "<table border=\"1\" class=\"dataframe\">\n",
       "  <thead>\n",
       "    <tr style=\"text-align: right;\">\n",
       "      <th></th>\n",
       "      <th>Cust_Id</th>\n",
       "      <th>Rating</th>\n",
       "      <th>Movie_Id</th>\n",
       "    </tr>\n",
       "  </thead>\n",
       "  <tbody>\n",
       "    <tr>\n",
       "      <th>0</th>\n",
       "      <td>1488844</td>\n",
       "      <td>3</td>\n",
       "      <td>1</td>\n",
       "    </tr>\n",
       "    <tr>\n",
       "      <th>1</th>\n",
       "      <td>822109</td>\n",
       "      <td>5</td>\n",
       "      <td>1</td>\n",
       "    </tr>\n",
       "    <tr>\n",
       "      <th>2</th>\n",
       "      <td>885013</td>\n",
       "      <td>4</td>\n",
       "      <td>1</td>\n",
       "    </tr>\n",
       "    <tr>\n",
       "      <th>3</th>\n",
       "      <td>30878</td>\n",
       "      <td>4</td>\n",
       "      <td>1</td>\n",
       "    </tr>\n",
       "    <tr>\n",
       "      <th>4</th>\n",
       "      <td>823519</td>\n",
       "      <td>3</td>\n",
       "      <td>1</td>\n",
       "    </tr>\n",
       "  </tbody>\n",
       "</table>\n",
       "</div>\n",
       "      <button class=\"colab-df-convert\" onclick=\"convertToInteractive('df-b9d4e6ec-7c33-457b-8676-1ba19cbffdeb')\"\n",
       "              title=\"Convert this dataframe to an interactive table.\"\n",
       "              style=\"display:none;\">\n",
       "        \n",
       "  <svg xmlns=\"http://www.w3.org/2000/svg\" height=\"24px\"viewBox=\"0 0 24 24\"\n",
       "       width=\"24px\">\n",
       "    <path d=\"M0 0h24v24H0V0z\" fill=\"none\"/>\n",
       "    <path d=\"M18.56 5.44l.94 2.06.94-2.06 2.06-.94-2.06-.94-.94-2.06-.94 2.06-2.06.94zm-11 1L8.5 8.5l.94-2.06 2.06-.94-2.06-.94L8.5 2.5l-.94 2.06-2.06.94zm10 10l.94 2.06.94-2.06 2.06-.94-2.06-.94-.94-2.06-.94 2.06-2.06.94z\"/><path d=\"M17.41 7.96l-1.37-1.37c-.4-.4-.92-.59-1.43-.59-.52 0-1.04.2-1.43.59L10.3 9.45l-7.72 7.72c-.78.78-.78 2.05 0 2.83L4 21.41c.39.39.9.59 1.41.59.51 0 1.02-.2 1.41-.59l7.78-7.78 2.81-2.81c.8-.78.8-2.07 0-2.86zM5.41 20L4 18.59l7.72-7.72 1.47 1.35L5.41 20z\"/>\n",
       "  </svg>\n",
       "      </button>\n",
       "      \n",
       "  <style>\n",
       "    .colab-df-container {\n",
       "      display:flex;\n",
       "      flex-wrap:wrap;\n",
       "      gap: 12px;\n",
       "    }\n",
       "\n",
       "    .colab-df-convert {\n",
       "      background-color: #E8F0FE;\n",
       "      border: none;\n",
       "      border-radius: 50%;\n",
       "      cursor: pointer;\n",
       "      display: none;\n",
       "      fill: #1967D2;\n",
       "      height: 32px;\n",
       "      padding: 0 0 0 0;\n",
       "      width: 32px;\n",
       "    }\n",
       "\n",
       "    .colab-df-convert:hover {\n",
       "      background-color: #E2EBFA;\n",
       "      box-shadow: 0px 1px 2px rgba(60, 64, 67, 0.3), 0px 1px 3px 1px rgba(60, 64, 67, 0.15);\n",
       "      fill: #174EA6;\n",
       "    }\n",
       "\n",
       "    [theme=dark] .colab-df-convert {\n",
       "      background-color: #3B4455;\n",
       "      fill: #D2E3FC;\n",
       "    }\n",
       "\n",
       "    [theme=dark] .colab-df-convert:hover {\n",
       "      background-color: #434B5C;\n",
       "      box-shadow: 0px 1px 3px 1px rgba(0, 0, 0, 0.15);\n",
       "      filter: drop-shadow(0px 1px 2px rgba(0, 0, 0, 0.3));\n",
       "      fill: #FFFFFF;\n",
       "    }\n",
       "  </style>\n",
       "\n",
       "      <script>\n",
       "        const buttonEl =\n",
       "          document.querySelector('#df-b9d4e6ec-7c33-457b-8676-1ba19cbffdeb button.colab-df-convert');\n",
       "        buttonEl.style.display =\n",
       "          google.colab.kernel.accessAllowed ? 'block' : 'none';\n",
       "\n",
       "        async function convertToInteractive(key) {\n",
       "          const element = document.querySelector('#df-b9d4e6ec-7c33-457b-8676-1ba19cbffdeb');\n",
       "          const dataTable =\n",
       "            await google.colab.kernel.invokeFunction('convertToInteractive',\n",
       "                                                     [key], {});\n",
       "          if (!dataTable) return;\n",
       "\n",
       "          const docLinkHtml = 'Like what you see? Visit the ' +\n",
       "            '<a target=\"_blank\" href=https://colab.research.google.com/notebooks/data_table.ipynb>data table notebook</a>'\n",
       "            + ' to learn more about interactive tables.';\n",
       "          element.innerHTML = '';\n",
       "          dataTable['output_type'] = 'display_data';\n",
       "          await google.colab.output.renderOutput(dataTable, element);\n",
       "          const docLink = document.createElement('div');\n",
       "          docLink.innerHTML = docLinkHtml;\n",
       "          element.appendChild(docLink);\n",
       "        }\n",
       "      </script>\n",
       "    </div>\n",
       "  </div>\n",
       "  "
      ],
      "text/plain": [
       "   Cust_Id  Rating  Movie_Id\n",
       "0  1488844       3         1\n",
       "1   822109       5         1\n",
       "2   885013       4         1\n",
       "3    30878       4         1\n",
       "4   823519       3         1"
      ]
     },
     "execution_count": 52,
     "metadata": {},
     "output_type": "execute_result"
    }
   ],
   "source": [
    "data_model.head(5)"
   ]
  },
  {
   "cell_type": "code",
   "execution_count": 53,
   "id": "a3ae2c8a",
   "metadata": {
    "colab": {
     "base_uri": "https://localhost:8080/"
    },
    "id": "a3ae2c8a",
    "outputId": "feca8208-b2e3-4cee-f1a5-b8577be2a237"
   },
   "outputs": [
    {
     "name": "stdout",
     "output_type": "stream",
     "text": [
      "Looking in indexes: https://pypi.org/simple, https://us-python.pkg.dev/colab-wheels/public/simple/\n",
      "Requirement already satisfied: surprise in /usr/local/lib/python3.7/dist-packages (0.1)\n",
      "Requirement already satisfied: scikit-surprise in /usr/local/lib/python3.7/dist-packages (from surprise) (1.1.1)\n",
      "Requirement already satisfied: numpy>=1.11.2 in /usr/local/lib/python3.7/dist-packages (from scikit-surprise->surprise) (1.21.6)\n",
      "Requirement already satisfied: scipy>=1.0.0 in /usr/local/lib/python3.7/dist-packages (from scikit-surprise->surprise) (1.7.3)\n",
      "Requirement already satisfied: joblib>=0.11 in /usr/local/lib/python3.7/dist-packages (from scikit-surprise->surprise) (1.1.0)\n",
      "Requirement already satisfied: six>=1.10.0 in /usr/local/lib/python3.7/dist-packages (from scikit-surprise->surprise) (1.15.0)\n"
     ]
    }
   ],
   "source": [
    "!pip install surprise"
   ]
  },
  {
   "cell_type": "code",
   "execution_count": 54,
   "id": "a5593675",
   "metadata": {
    "id": "a5593675"
   },
   "outputs": [],
   "source": [
    "from surprise import Reader, Dataset, SVD\n",
    "from surprise.model_selection import cross_validate"
   ]
  },
  {
   "cell_type": "code",
   "execution_count": 96,
   "id": "ERDEtvVMtbEO",
   "metadata": {
    "colab": {
     "base_uri": "https://localhost:8080/"
    },
    "id": "ERDEtvVMtbEO",
    "outputId": "74f5d634-4fa3-44cd-ce49-87774ee7db99"
   },
   "outputs": [
    {
     "name": "stdout",
     "output_type": "stream",
     "text": [
      "Evaluating RMSE, MAE of algorithm SVD on 3 split(s).\n",
      "\n",
      "                  Fold 1  Fold 2  Fold 3  Mean    Std     \n",
      "RMSE (testset)    0.9855  0.9881  0.9848  0.9861  0.0014  \n",
      "MAE (testset)     0.7706  0.7718  0.7708  0.7710  0.0006  \n",
      "Fit time          48.48   50.09   48.70   49.09   0.71    \n",
      "Test time         4.49    3.95    4.52    4.32    0.26    \n"
     ]
    },
    {
     "data": {
      "text/plain": [
       "{'test_rmse': array([0.98547314, 0.9881036 , 0.98481271]),\n",
       " 'test_mae': array([0.77055013, 0.77182565, 0.77076293]),\n",
       " 'fit_time': (48.47765517234802, 50.09334468841553, 48.70305252075195),\n",
       " 'test_time': (4.4946558475494385, 3.9470605850219727, 4.516969919204712)}"
      ]
     },
     "execution_count": 96,
     "metadata": {},
     "output_type": "execute_result"
    }
   ],
   "source": [
    "#Initialize SVD\n",
    "svd = SVD()\n",
    "reader = Reader()\n",
    "\n",
    "data_svd=Dataset.load_from_df(data[['Cust_Id', 'Movie_Id', 'Rating']],reader)\n",
    "# Compute the RMSE of the SVD algorithm\n",
    "cross_validate(svd, data_svd, measures=['RMSE', 'MAE'], cv=3, verbose=True)"
   ]
  },
  {
   "cell_type": "code",
   "execution_count": 61,
   "id": "FLbnlkaXyaRp",
   "metadata": {
    "colab": {
     "base_uri": "https://localhost:8080/",
     "height": 551
    },
    "id": "FLbnlkaXyaRp",
    "outputId": "7fbef34f-9867-4ffe-eff9-524427d79a94"
   },
   "outputs": [
    {
     "data": {
      "text/html": [
       "\n",
       "  <div id=\"df-f1b2ed92-a442-4d12-a8e0-a89a1fd1184a\">\n",
       "    <div class=\"colab-df-container\">\n",
       "      <div>\n",
       "<style scoped>\n",
       "    .dataframe tbody tr th:only-of-type {\n",
       "        vertical-align: middle;\n",
       "    }\n",
       "\n",
       "    .dataframe tbody tr th {\n",
       "        vertical-align: top;\n",
       "    }\n",
       "\n",
       "    .dataframe thead th {\n",
       "        text-align: right;\n",
       "    }\n",
       "</style>\n",
       "<table border=\"1\" class=\"dataframe\">\n",
       "  <thead>\n",
       "    <tr style=\"text-align: right;\">\n",
       "      <th></th>\n",
       "      <th>Cust_Id</th>\n",
       "      <th>Rating</th>\n",
       "      <th>Movie_Id</th>\n",
       "      <th>Genre</th>\n",
       "      <th>MovieName</th>\n",
       "    </tr>\n",
       "  </thead>\n",
       "  <tbody>\n",
       "    <tr>\n",
       "      <th>3</th>\n",
       "      <td>30878</td>\n",
       "      <td>4</td>\n",
       "      <td>1</td>\n",
       "      <td>Action</td>\n",
       "      <td>Dinosaur Planet</td>\n",
       "    </tr>\n",
       "    <tr>\n",
       "      <th>2849</th>\n",
       "      <td>30878</td>\n",
       "      <td>1</td>\n",
       "      <td>5</td>\n",
       "      <td>Thriller</td>\n",
       "      <td>The Rise and Fall of ECW</td>\n",
       "    </tr>\n",
       "    <tr>\n",
       "      <th>31469</th>\n",
       "      <td>30878</td>\n",
       "      <td>3</td>\n",
       "      <td>18</td>\n",
       "      <td>Animation</td>\n",
       "      <td>Immortal Beloved</td>\n",
       "    </tr>\n",
       "    <tr>\n",
       "      <th>52546</th>\n",
       "      <td>30878</td>\n",
       "      <td>3</td>\n",
       "      <td>28</td>\n",
       "      <td>Biography</td>\n",
       "      <td>Lilo and Stitch</td>\n",
       "    </tr>\n",
       "    <tr>\n",
       "      <th>92838</th>\n",
       "      <td>30878</td>\n",
       "      <td>4</td>\n",
       "      <td>30</td>\n",
       "      <td>Historical</td>\n",
       "      <td>Something's Gotta Give</td>\n",
       "    </tr>\n",
       "    <tr>\n",
       "      <th>224734</th>\n",
       "      <td>30878</td>\n",
       "      <td>5</td>\n",
       "      <td>44</td>\n",
       "      <td>Historical</td>\n",
       "      <td>Spitfire Grill</td>\n",
       "    </tr>\n",
       "    <tr>\n",
       "      <th>262250</th>\n",
       "      <td>30878</td>\n",
       "      <td>3</td>\n",
       "      <td>58</td>\n",
       "      <td>Other</td>\n",
       "      <td>Dragonheart</td>\n",
       "    </tr>\n",
       "    <tr>\n",
       "      <th>312390</th>\n",
       "      <td>30878</td>\n",
       "      <td>3</td>\n",
       "      <td>81</td>\n",
       "      <td>Educational</td>\n",
       "      <td>Antarctica: IMAX</td>\n",
       "    </tr>\n",
       "    <tr>\n",
       "      <th>340984</th>\n",
       "      <td>30878</td>\n",
       "      <td>3</td>\n",
       "      <td>97</td>\n",
       "      <td>Animation</td>\n",
       "      <td>Mostly Martha</td>\n",
       "    </tr>\n",
       "    <tr>\n",
       "      <th>415825</th>\n",
       "      <td>30878</td>\n",
       "      <td>3</td>\n",
       "      <td>118</td>\n",
       "      <td>War</td>\n",
       "      <td>Rambo: First Blood Part II</td>\n",
       "    </tr>\n",
       "    <tr>\n",
       "      <th>543384</th>\n",
       "      <td>30878</td>\n",
       "      <td>4</td>\n",
       "      <td>165</td>\n",
       "      <td>Fan</td>\n",
       "      <td>Richard Pryor: Live on the Sunset Strip</td>\n",
       "    </tr>\n",
       "    <tr>\n",
       "      <th>547950</th>\n",
       "      <td>30878</td>\n",
       "      <td>4</td>\n",
       "      <td>166</td>\n",
       "      <td>Gang</td>\n",
       "      <td>Fame</td>\n",
       "    </tr>\n",
       "    <tr>\n",
       "      <th>702513</th>\n",
       "      <td>30878</td>\n",
       "      <td>4</td>\n",
       "      <td>189</td>\n",
       "      <td>Historical</td>\n",
       "      <td>Airplane II: The Sequel</td>\n",
       "    </tr>\n",
       "    <tr>\n",
       "      <th>716736</th>\n",
       "      <td>30878</td>\n",
       "      <td>4</td>\n",
       "      <td>191</td>\n",
       "      <td>Educational</td>\n",
       "      <td>X2: X-Men United</td>\n",
       "    </tr>\n",
       "    <tr>\n",
       "      <th>817055</th>\n",
       "      <td>30878</td>\n",
       "      <td>4</td>\n",
       "      <td>197</td>\n",
       "      <td>Mystery</td>\n",
       "      <td>Taking Lives</td>\n",
       "    </tr>\n",
       "    <tr>\n",
       "      <th>1003204</th>\n",
       "      <td>30878</td>\n",
       "      <td>5</td>\n",
       "      <td>232</td>\n",
       "      <td>Documentary</td>\n",
       "      <td>Gross Anatomy</td>\n",
       "    </tr>\n",
       "  </tbody>\n",
       "</table>\n",
       "</div>\n",
       "      <button class=\"colab-df-convert\" onclick=\"convertToInteractive('df-f1b2ed92-a442-4d12-a8e0-a89a1fd1184a')\"\n",
       "              title=\"Convert this dataframe to an interactive table.\"\n",
       "              style=\"display:none;\">\n",
       "        \n",
       "  <svg xmlns=\"http://www.w3.org/2000/svg\" height=\"24px\"viewBox=\"0 0 24 24\"\n",
       "       width=\"24px\">\n",
       "    <path d=\"M0 0h24v24H0V0z\" fill=\"none\"/>\n",
       "    <path d=\"M18.56 5.44l.94 2.06.94-2.06 2.06-.94-2.06-.94-.94-2.06-.94 2.06-2.06.94zm-11 1L8.5 8.5l.94-2.06 2.06-.94-2.06-.94L8.5 2.5l-.94 2.06-2.06.94zm10 10l.94 2.06.94-2.06 2.06-.94-2.06-.94-.94-2.06-.94 2.06-2.06.94z\"/><path d=\"M17.41 7.96l-1.37-1.37c-.4-.4-.92-.59-1.43-.59-.52 0-1.04.2-1.43.59L10.3 9.45l-7.72 7.72c-.78.78-.78 2.05 0 2.83L4 21.41c.39.39.9.59 1.41.59.51 0 1.02-.2 1.41-.59l7.78-7.78 2.81-2.81c.8-.78.8-2.07 0-2.86zM5.41 20L4 18.59l7.72-7.72 1.47 1.35L5.41 20z\"/>\n",
       "  </svg>\n",
       "      </button>\n",
       "      \n",
       "  <style>\n",
       "    .colab-df-container {\n",
       "      display:flex;\n",
       "      flex-wrap:wrap;\n",
       "      gap: 12px;\n",
       "    }\n",
       "\n",
       "    .colab-df-convert {\n",
       "      background-color: #E8F0FE;\n",
       "      border: none;\n",
       "      border-radius: 50%;\n",
       "      cursor: pointer;\n",
       "      display: none;\n",
       "      fill: #1967D2;\n",
       "      height: 32px;\n",
       "      padding: 0 0 0 0;\n",
       "      width: 32px;\n",
       "    }\n",
       "\n",
       "    .colab-df-convert:hover {\n",
       "      background-color: #E2EBFA;\n",
       "      box-shadow: 0px 1px 2px rgba(60, 64, 67, 0.3), 0px 1px 3px 1px rgba(60, 64, 67, 0.15);\n",
       "      fill: #174EA6;\n",
       "    }\n",
       "\n",
       "    [theme=dark] .colab-df-convert {\n",
       "      background-color: #3B4455;\n",
       "      fill: #D2E3FC;\n",
       "    }\n",
       "\n",
       "    [theme=dark] .colab-df-convert:hover {\n",
       "      background-color: #434B5C;\n",
       "      box-shadow: 0px 1px 3px 1px rgba(0, 0, 0, 0.15);\n",
       "      filter: drop-shadow(0px 1px 2px rgba(0, 0, 0, 0.3));\n",
       "      fill: #FFFFFF;\n",
       "    }\n",
       "  </style>\n",
       "\n",
       "      <script>\n",
       "        const buttonEl =\n",
       "          document.querySelector('#df-f1b2ed92-a442-4d12-a8e0-a89a1fd1184a button.colab-df-convert');\n",
       "        buttonEl.style.display =\n",
       "          google.colab.kernel.accessAllowed ? 'block' : 'none';\n",
       "\n",
       "        async function convertToInteractive(key) {\n",
       "          const element = document.querySelector('#df-f1b2ed92-a442-4d12-a8e0-a89a1fd1184a');\n",
       "          const dataTable =\n",
       "            await google.colab.kernel.invokeFunction('convertToInteractive',\n",
       "                                                     [key], {});\n",
       "          if (!dataTable) return;\n",
       "\n",
       "          const docLinkHtml = 'Like what you see? Visit the ' +\n",
       "            '<a target=\"_blank\" href=https://colab.research.google.com/notebooks/data_table.ipynb>data table notebook</a>'\n",
       "            + ' to learn more about interactive tables.';\n",
       "          element.innerHTML = '';\n",
       "          dataTable['output_type'] = 'display_data';\n",
       "          await google.colab.output.renderOutput(dataTable, element);\n",
       "          const docLink = document.createElement('div');\n",
       "          docLink.innerHTML = docLinkHtml;\n",
       "          element.appendChild(docLink);\n",
       "        }\n",
       "      </script>\n",
       "    </div>\n",
       "  </div>\n",
       "  "
      ],
      "text/plain": [
       "         Cust_Id  Rating  Movie_Id        Genre  \\\n",
       "3          30878       4         1       Action   \n",
       "2849       30878       1         5     Thriller   \n",
       "31469      30878       3        18    Animation   \n",
       "52546      30878       3        28    Biography   \n",
       "92838      30878       4        30   Historical   \n",
       "224734     30878       5        44   Historical   \n",
       "262250     30878       3        58        Other   \n",
       "312390     30878       3        81  Educational   \n",
       "340984     30878       3        97    Animation   \n",
       "415825     30878       3       118          War   \n",
       "543384     30878       4       165          Fan   \n",
       "547950     30878       4       166         Gang   \n",
       "702513     30878       4       189   Historical   \n",
       "716736     30878       4       191  Educational   \n",
       "817055     30878       4       197      Mystery   \n",
       "1003204    30878       5       232  Documentary   \n",
       "\n",
       "                                       MovieName  \n",
       "3                                Dinosaur Planet  \n",
       "2849                    The Rise and Fall of ECW  \n",
       "31469                           Immortal Beloved  \n",
       "52546                            Lilo and Stitch  \n",
       "92838                     Something's Gotta Give  \n",
       "224734                            Spitfire Grill  \n",
       "262250                               Dragonheart  \n",
       "312390                          Antarctica: IMAX  \n",
       "340984                             Mostly Martha  \n",
       "415825                Rambo: First Blood Part II  \n",
       "543384   Richard Pryor: Live on the Sunset Strip  \n",
       "547950                                      Fame  \n",
       "702513                   Airplane II: The Sequel  \n",
       "716736                          X2: X-Men United  \n",
       "817055                              Taking Lives  \n",
       "1003204                            Gross Anatomy  "
      ]
     },
     "execution_count": 61,
     "metadata": {},
     "output_type": "execute_result"
    }
   ],
   "source": [
    "data[data['Cust_Id']==30878]"
   ]
  },
  {
   "cell_type": "code",
   "execution_count": 66,
   "id": "lFhZZmy-yxzb",
   "metadata": {
    "colab": {
     "base_uri": "https://localhost:8080/",
     "height": 424
    },
    "id": "lFhZZmy-yxzb",
    "outputId": "607ed39f-9ec1-4adc-a12e-4ad519bfe18d"
   },
   "outputs": [
    {
     "data": {
      "text/html": [
       "\n",
       "  <div id=\"df-9b82f757-23b3-493f-b649-3a3af4a441b9\">\n",
       "    <div class=\"colab-df-container\">\n",
       "      <div>\n",
       "<style scoped>\n",
       "    .dataframe tbody tr th:only-of-type {\n",
       "        vertical-align: middle;\n",
       "    }\n",
       "\n",
       "    .dataframe tbody tr th {\n",
       "        vertical-align: top;\n",
       "    }\n",
       "\n",
       "    .dataframe thead th {\n",
       "        text-align: right;\n",
       "    }\n",
       "</style>\n",
       "<table border=\"1\" class=\"dataframe\">\n",
       "  <thead>\n",
       "    <tr style=\"text-align: right;\">\n",
       "      <th></th>\n",
       "      <th>Movie_Id</th>\n",
       "      <th>MovieName</th>\n",
       "      <th>Genre</th>\n",
       "    </tr>\n",
       "  </thead>\n",
       "  <tbody>\n",
       "    <tr>\n",
       "      <th>0</th>\n",
       "      <td>1</td>\n",
       "      <td>Dinosaur Planet</td>\n",
       "      <td>Action</td>\n",
       "    </tr>\n",
       "    <tr>\n",
       "      <th>547</th>\n",
       "      <td>2</td>\n",
       "      <td>Isle of Man TT 2004 Review</td>\n",
       "      <td>Comedy</td>\n",
       "    </tr>\n",
       "    <tr>\n",
       "      <th>692</th>\n",
       "      <td>3</td>\n",
       "      <td>Character</td>\n",
       "      <td>Horror</td>\n",
       "    </tr>\n",
       "    <tr>\n",
       "      <th>2704</th>\n",
       "      <td>4</td>\n",
       "      <td>Paula Abdul's Get Up &amp; Dance</td>\n",
       "      <td>Romance</td>\n",
       "    </tr>\n",
       "    <tr>\n",
       "      <th>2846</th>\n",
       "      <td>5</td>\n",
       "      <td>The Rise and Fall of ECW</td>\n",
       "      <td>Thriller</td>\n",
       "    </tr>\n",
       "    <tr>\n",
       "      <th>...</th>\n",
       "      <td>...</td>\n",
       "      <td>...</td>\n",
       "      <td>...</td>\n",
       "    </tr>\n",
       "    <tr>\n",
       "      <th>1009258</th>\n",
       "      <td>237</td>\n",
       "      <td>Broken Blossoms</td>\n",
       "      <td>Animation</td>\n",
       "    </tr>\n",
       "    <tr>\n",
       "      <th>1009606</th>\n",
       "      <td>238</td>\n",
       "      <td>Led Zeppelin: The Song Remains the Same</td>\n",
       "      <td>Other</td>\n",
       "    </tr>\n",
       "    <tr>\n",
       "      <th>1011941</th>\n",
       "      <td>239</td>\n",
       "      <td>Winnie the Pooh: Springtime with Roo</td>\n",
       "      <td>Mystery</td>\n",
       "    </tr>\n",
       "    <tr>\n",
       "      <th>1014131</th>\n",
       "      <td>240</td>\n",
       "      <td>Woman of the Year</td>\n",
       "      <td>Drama</td>\n",
       "    </tr>\n",
       "    <tr>\n",
       "      <th>1019315</th>\n",
       "      <td>241</td>\n",
       "      <td>North by NorthWest</td>\n",
       "      <td>Horror</td>\n",
       "    </tr>\n",
       "  </tbody>\n",
       "</table>\n",
       "<p>240 rows × 3 columns</p>\n",
       "</div>\n",
       "      <button class=\"colab-df-convert\" onclick=\"convertToInteractive('df-9b82f757-23b3-493f-b649-3a3af4a441b9')\"\n",
       "              title=\"Convert this dataframe to an interactive table.\"\n",
       "              style=\"display:none;\">\n",
       "        \n",
       "  <svg xmlns=\"http://www.w3.org/2000/svg\" height=\"24px\"viewBox=\"0 0 24 24\"\n",
       "       width=\"24px\">\n",
       "    <path d=\"M0 0h24v24H0V0z\" fill=\"none\"/>\n",
       "    <path d=\"M18.56 5.44l.94 2.06.94-2.06 2.06-.94-2.06-.94-.94-2.06-.94 2.06-2.06.94zm-11 1L8.5 8.5l.94-2.06 2.06-.94-2.06-.94L8.5 2.5l-.94 2.06-2.06.94zm10 10l.94 2.06.94-2.06 2.06-.94-2.06-.94-.94-2.06-.94 2.06-2.06.94z\"/><path d=\"M17.41 7.96l-1.37-1.37c-.4-.4-.92-.59-1.43-.59-.52 0-1.04.2-1.43.59L10.3 9.45l-7.72 7.72c-.78.78-.78 2.05 0 2.83L4 21.41c.39.39.9.59 1.41.59.51 0 1.02-.2 1.41-.59l7.78-7.78 2.81-2.81c.8-.78.8-2.07 0-2.86zM5.41 20L4 18.59l7.72-7.72 1.47 1.35L5.41 20z\"/>\n",
       "  </svg>\n",
       "      </button>\n",
       "      \n",
       "  <style>\n",
       "    .colab-df-container {\n",
       "      display:flex;\n",
       "      flex-wrap:wrap;\n",
       "      gap: 12px;\n",
       "    }\n",
       "\n",
       "    .colab-df-convert {\n",
       "      background-color: #E8F0FE;\n",
       "      border: none;\n",
       "      border-radius: 50%;\n",
       "      cursor: pointer;\n",
       "      display: none;\n",
       "      fill: #1967D2;\n",
       "      height: 32px;\n",
       "      padding: 0 0 0 0;\n",
       "      width: 32px;\n",
       "    }\n",
       "\n",
       "    .colab-df-convert:hover {\n",
       "      background-color: #E2EBFA;\n",
       "      box-shadow: 0px 1px 2px rgba(60, 64, 67, 0.3), 0px 1px 3px 1px rgba(60, 64, 67, 0.15);\n",
       "      fill: #174EA6;\n",
       "    }\n",
       "\n",
       "    [theme=dark] .colab-df-convert {\n",
       "      background-color: #3B4455;\n",
       "      fill: #D2E3FC;\n",
       "    }\n",
       "\n",
       "    [theme=dark] .colab-df-convert:hover {\n",
       "      background-color: #434B5C;\n",
       "      box-shadow: 0px 1px 3px 1px rgba(0, 0, 0, 0.15);\n",
       "      filter: drop-shadow(0px 1px 2px rgba(0, 0, 0, 0.3));\n",
       "      fill: #FFFFFF;\n",
       "    }\n",
       "  </style>\n",
       "\n",
       "      <script>\n",
       "        const buttonEl =\n",
       "          document.querySelector('#df-9b82f757-23b3-493f-b649-3a3af4a441b9 button.colab-df-convert');\n",
       "        buttonEl.style.display =\n",
       "          google.colab.kernel.accessAllowed ? 'block' : 'none';\n",
       "\n",
       "        async function convertToInteractive(key) {\n",
       "          const element = document.querySelector('#df-9b82f757-23b3-493f-b649-3a3af4a441b9');\n",
       "          const dataTable =\n",
       "            await google.colab.kernel.invokeFunction('convertToInteractive',\n",
       "                                                     [key], {});\n",
       "          if (!dataTable) return;\n",
       "\n",
       "          const docLinkHtml = 'Like what you see? Visit the ' +\n",
       "            '<a target=\"_blank\" href=https://colab.research.google.com/notebooks/data_table.ipynb>data table notebook</a>'\n",
       "            + ' to learn more about interactive tables.';\n",
       "          element.innerHTML = '';\n",
       "          dataTable['output_type'] = 'display_data';\n",
       "          await google.colab.output.renderOutput(dataTable, element);\n",
       "          const docLink = document.createElement('div');\n",
       "          docLink.innerHTML = docLinkHtml;\n",
       "          element.appendChild(docLink);\n",
       "        }\n",
       "      </script>\n",
       "    </div>\n",
       "  </div>\n",
       "  "
      ],
      "text/plain": [
       "         Movie_Id                                MovieName      Genre\n",
       "0               1                          Dinosaur Planet     Action\n",
       "547             2               Isle of Man TT 2004 Review     Comedy\n",
       "692             3                                Character     Horror\n",
       "2704            4             Paula Abdul's Get Up & Dance    Romance\n",
       "2846            5                 The Rise and Fall of ECW   Thriller\n",
       "...           ...                                      ...        ...\n",
       "1009258       237                          Broken Blossoms  Animation\n",
       "1009606       238  Led Zeppelin: The Song Remains the Same      Other\n",
       "1011941       239     Winnie the Pooh: Springtime with Roo    Mystery\n",
       "1014131       240                        Woman of the Year      Drama\n",
       "1019315       241                       North by NorthWest     Horror\n",
       "\n",
       "[240 rows x 3 columns]"
      ]
     },
     "execution_count": 66,
     "metadata": {},
     "output_type": "execute_result"
    }
   ],
   "source": [
    "movie_details=data[['Movie_Id','MovieName','Genre']]\n",
    "movie_details=movie_details.drop_duplicates()\n",
    "movie_details\n"
   ]
  },
  {
   "cell_type": "code",
   "execution_count": 95,
   "id": "97R8iTlH0Lv2",
   "metadata": {
    "id": "97R8iTlH0Lv2"
   },
   "outputs": [],
   "source": [
    "user_30878=movie_details.copy()"
   ]
  },
  {
   "cell_type": "code",
   "execution_count": 97,
   "id": "FKYvGoA81VBx",
   "metadata": {
    "colab": {
     "base_uri": "https://localhost:8080/"
    },
    "id": "FKYvGoA81VBx",
    "outputId": "7c8851a1-c3d7-4c7f-984f-5f77f2380c66"
   },
   "outputs": [
    {
     "name": "stdout",
     "output_type": "stream",
     "text": [
      "                                                 MovieName        Genre  \\\n",
      "21096    Lord of the Rings: The Return of the King: Ext...     Thriller   \n",
      "281536                                         Invader Zim       RomCom   \n",
      "557382                                          The Chorus    Animation   \n",
      "287305                               I Love Lucy: Season 2       Sci-Fi   \n",
      "951590                            That '70s Show: Season 1    Biography   \n",
      "358272                            Magnolia: Bonus Material  Educational   \n",
      "335222                                          Elfen Lied        Other   \n",
      "45182        Inspector Morse 31: Death Is Now My Neighbour        Drama   \n",
      "1019315                                 North by NorthWest       Horror   \n",
      "540328                                Gentlemen of Fortune    Biography   \n",
      "\n",
      "         Estimate_Score  \n",
      "21096          4.399505  \n",
      "281536         4.272484  \n",
      "557382         4.271894  \n",
      "287305         4.234490  \n",
      "951590         4.225217  \n",
      "358272         4.190976  \n",
      "335222         4.143451  \n",
      "45182          4.103971  \n",
      "1019315        4.090800  \n",
      "540328         4.032509  \n"
     ]
    }
   ],
   "source": [
    "#create a training set for svd\n",
    "trainset = data_svd.build_full_trainset()\n",
    "svd.fit(trainset)\n",
    "\n",
    "#Predict the ratings for user_30878\n",
    "user_30878['Estimate_Score'] = user_30878['Movie_Id'].apply(lambda x: svd.predict(30878, x).est)\n",
    "\n",
    "#Drop extra columns from the user_30878 data frame\n",
    "user_30878 = user_30878.drop('Movie_Id', axis = 1)\n",
    "\n",
    "# Sort predicted ratings for user_30878 in descending order\n",
    "user_30878 = user_30878.sort_values('Estimate_Score', ascending=False)\n",
    "\n",
    "#Print top 10 recommendations\n",
    "print(user_30878.head(10))"
   ]
  },
  {
   "cell_type": "code",
   "execution_count": 100,
   "id": "VjWyBjUOC8Wn",
   "metadata": {
    "colab": {
     "base_uri": "https://localhost:8080/"
    },
    "id": "VjWyBjUOC8Wn",
    "outputId": "4823ef84-4e36-413e-a5a4-1a1f801d111f"
   },
   "outputs": [
    {
     "name": "stdout",
     "output_type": "stream",
     "text": [
      "                                                 MovieName        Genre  \\\n",
      "21096    Lord of the Rings: The Return of the King: Ext...     Thriller   \n",
      "281536                                         Invader Zim       RomCom   \n",
      "557382                                          The Chorus    Animation   \n",
      "287305                               I Love Lucy: Season 2       Sci-Fi   \n",
      "951590                            That '70s Show: Season 1    Biography   \n",
      "358272                            Magnolia: Bonus Material  Educational   \n",
      "335222                                          Elfen Lied        Other   \n",
      "45182        Inspector Morse 31: Death Is Now My Neighbour        Drama   \n",
      "1019315                                 North by NorthWest       Horror   \n",
      "540328                                Gentlemen of Fortune    Biography   \n",
      "577375                                      Reservoir Dogs   Historical   \n",
      "335781   Record of Lodoss War: Chronicles of the Heroic...        Crime   \n",
      "716692                                    X2: X-Men United  Educational   \n",
      "224714                                      Spitfire Grill   Historical   \n",
      "450767                   GTO: Great Teacher Onizuka: Set 2  Educational   \n",
      "357332   Stevie Ray Vaughan and Double Trouble: Live at...  Documentary   \n",
      "92798                               Something's Gotta Give   Historical   \n",
      "280254               Ken Burns' America: Empire of the Air       Sci-Fi   \n",
      "967434                          Chappelle's Show: Season 1    Animation   \n",
      "52523                                      Lilo and Stitch    Biography   \n",
      "\n",
      "         Estimate_Score  \n",
      "21096          4.399505  \n",
      "281536         4.272484  \n",
      "557382         4.271894  \n",
      "287305         4.234490  \n",
      "951590         4.225217  \n",
      "358272         4.190976  \n",
      "335222         4.143451  \n",
      "45182          4.103971  \n",
      "1019315        4.090800  \n",
      "540328         4.032509  \n",
      "577375         4.021846  \n",
      "335781         4.001841  \n",
      "716692         3.982249  \n",
      "224714         3.969145  \n",
      "450767         3.959146  \n",
      "357332         3.955855  \n",
      "92798          3.939889  \n",
      "280254         3.938603  \n",
      "967434         3.919666  \n",
      "52523          3.917687  \n"
     ]
    }
   ],
   "source": [
    "print(user_30878.head(20))"
   ]
  },
  {
   "cell_type": "markdown",
   "id": "iZxz_t_DD8Ez",
   "metadata": {
    "id": "iZxz_t_DD8Ez"
   },
   "source": [
    "3.Find what Genre Movies have received the best and worst ratings based on User Rating."
   ]
  },
  {
   "cell_type": "code",
   "execution_count": 102,
   "id": "W3bUNOUuEFVN",
   "metadata": {
    "colab": {
     "base_uri": "https://localhost:8080/"
    },
    "id": "W3bUNOUuEFVN",
    "outputId": "70babaf4-ca6b-4ee6-874d-8c9b579b6e50"
   },
   "outputs": [
    {
     "name": "stdout",
     "output_type": "stream",
     "text": [
      "Most Higher Rated Genre BenchMark  :  3.826005530985234\n",
      "List of most liked Genre :  ['Educational' 'Horror']\n"
     ]
    }
   ],
   "source": [
    "#Finding top 10 percentile genre based on ratings i.e most like genres\n",
    "\n",
    "genre_rating_benchmark=genre_summary['mean'].quantile(0.9)\n",
    "genre_most_liked=genre_summary[genre_summary['mean']>genre_rating_benchmark]\n",
    "genre_most_liked=np.array(genre_most_liked.index)\n",
    "print('Most Higher Rated Genre BenchMark  : ',genre_rating_benchmark)\n",
    "print('List of most liked Genre : ',genre_most_liked)"
   ]
  },
  {
   "cell_type": "code",
   "execution_count": 104,
   "id": "3tQ0QtynFt0b",
   "metadata": {
    "colab": {
     "base_uri": "https://localhost:8080/"
    },
    "id": "3tQ0QtynFt0b",
    "outputId": "42ca46ef-4537-4e32-c6c7-3589a9b8b54d"
   },
   "outputs": [
    {
     "name": "stdout",
     "output_type": "stream",
     "text": [
      "Most Lower Rated Genre BenchMark  :  3.0832680427734536\n",
      "List of most worst Genre :  ['Romance' 'Thriller']\n"
     ]
    }
   ],
   "source": [
    "##Finding bottom 10 percentile genre based on ratings i.e most like genres\n",
    "genre_rating_benchmark_worst=genre_summary['mean'].quantile(0.1)\n",
    "genre_most_worst=genre_summary[genre_summary['mean']<genre_rating_benchmark_worst]\n",
    "genre_most_worst=np.array(genre_most_worst.index)\n",
    "print('Most Lower Rated Genre BenchMark  : ',genre_rating_benchmark_worst)\n",
    "print('List of most worst Genre : ',genre_most_worst)"
   ]
  },
  {
   "cell_type": "code",
   "execution_count": 105,
   "id": "J6YZ_0mcGZIa",
   "metadata": {
    "id": "J6YZ_0mcGZIa"
   },
   "outputs": [],
   "source": []
  }
 ],
 "metadata": {
  "colab": {
   "provenance": [],
   "toc_visible": true
  },
  "kernelspec": {
   "display_name": "Python 3 (ipykernel)",
   "language": "python",
   "name": "python3"
  },
  "language_info": {
   "codemirror_mode": {
    "name": "ipython",
    "version": 3
   },
   "file_extension": ".py",
   "mimetype": "text/x-python",
   "name": "python",
   "nbconvert_exporter": "python",
   "pygments_lexer": "ipython3",
   "version": "3.9.12"
  }
 },
 "nbformat": 4,
 "nbformat_minor": 5
}
